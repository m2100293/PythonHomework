{
 "cells": [
  {
   "cell_type": "code",
   "execution_count": 4,
   "id": "b5e9a238",
   "metadata": {},
   "outputs": [
    {
     "name": "stdout",
     "output_type": "stream",
     "text": [
      "Средний балл -  3.1818181818181817 \n",
      "\n",
      "Список отстающих\n",
      "\n",
      "Дмитриев Н \n",
      "\n",
      "Котов Д \n",
      "\n",
      "Бирюкова Н \n",
      "\n",
      "Лемонов Ю \n",
      "\n"
     ]
    }
   ],
   "source": [
    "def GPALSL(vvod):\n",
    "    slovarik = {}\n",
    "    vvodsplited = vvod.split('\\n')\n",
    "    GPA = 0\n",
    "    for i in vvodsplited:\n",
    "        temp = i.split('.')\n",
    "        slovarik[temp[0]]=int(temp[1])\n",
    "    for i in slovarik.values():\n",
    "        GPA += i\n",
    "    GPA = GPA/len(slovarik)\n",
    "    #Считаем отстающими тех у кого меньше 2 баллов\n",
    "    print ('Средний балл - ',GPA,'\\n\\nСписок отстающих\\n')\n",
    "    for i in slovarik:\n",
    "        if (slovarik[i]<3):\n",
    "            print (i,'\\n')\n",
    "\n",
    "vvod = \"\"\"Иванов О. 4\n",
    "Петров И. 3\n",
    "Дмитриев Н. 2\n",
    "Смирнова О. 4\n",
    "Керченских В. 5\n",
    "Котов Д. 2\n",
    "Бирюкова Н. 1\n",
    "Данилов П. 3\n",
    "Аранских В. 5\n",
    "Лемонов Ю. 2\n",
    "Олегова К. 4\"\"\"\n",
    "\n",
    "GPALSL(vvod)"
   ]
  }
 ],
 "metadata": {
  "kernelspec": {
   "display_name": "Python 3 (ipykernel)",
   "language": "python",
   "name": "python3"
  },
  "language_info": {
   "codemirror_mode": {
    "name": "ipython",
    "version": 3
   },
   "file_extension": ".py",
   "mimetype": "text/x-python",
   "name": "python",
   "nbconvert_exporter": "python",
   "pygments_lexer": "ipython3",
   "version": "3.9.7"
  }
 },
 "nbformat": 4,
 "nbformat_minor": 5
}

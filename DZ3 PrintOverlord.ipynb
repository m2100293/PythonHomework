{
 "cells": [
  {
   "cell_type": "code",
   "execution_count": 4,
   "id": "9f7b6f06",
   "metadata": {},
   "outputs": [
    {
     "name": "stdout",
     "output_type": "stream",
     "text": [
      "НОМЕР 0 --> ЗНАЧЕНИЕ 1\n",
      "НОМЕР 1 --> ЗНАЧЕНИЕ 4\n",
      "НОМЕР 2 --> ЗНАЧЕНИЕ 5\n",
      "\n",
      "\n",
      "КЛЮЧ <<key1>> --> ЗНАЧЕНИЕ 2\n",
      "КЛЮЧ <<key3>> --> ЗНАЧЕНИЕ False\n",
      "КЛЮЧ <<Приветствие>> --> ЗНАЧЕНИЕ Hello\n",
      "\n",
      "\n",
      "с\n",
      "и\n",
      "В\n",
      "а\n",
      "л\n"
     ]
    }
   ],
   "source": [
    "convert1 = lambda a: 'НОМЕР '+str(a[0])+' --> ЗНАЧЕНИЕ '+str(a[1])\n",
    "convert2 = lambda a: 'КЛЮЧ <<'+str(a[0])+'>> --> ЗНАЧЕНИЕ '+str(a[1])\n",
    "\n",
    "def DisplayAllElements(data):\n",
    "    if isinstance(data, list):\n",
    "        print(*map(convert1,enumerate(data)),sep='\\n')\n",
    "    elif isinstance(data, dict):\n",
    "        print(*map(convert2,data.items()),sep='\\n')\n",
    "    else:\n",
    "        print(*data,sep='\\n')\n",
    "\n",
    "numbers=[1,4,5]\n",
    "my_dict={\"key1\": 2, \"key3\": False, \"Приветствие\": \"Hello\"}\n",
    "something = set(\"Василиса\")\n",
    "\n",
    "DisplayAllElements(numbers)\n",
    "print('\\n')\n",
    "DisplayAllElements(my_dict)\n",
    "print('\\n')\n",
    "DisplayAllElements(something)"
   ]
  }
 ],
 "metadata": {
  "kernelspec": {
   "display_name": "Python 3 (ipykernel)",
   "language": "python",
   "name": "python3"
  },
  "language_info": {
   "codemirror_mode": {
    "name": "ipython",
    "version": 3
   },
   "file_extension": ".py",
   "mimetype": "text/x-python",
   "name": "python",
   "nbconvert_exporter": "python",
   "pygments_lexer": "ipython3",
   "version": "3.9.7"
  }
 },
 "nbformat": 4,
 "nbformat_minor": 5
}

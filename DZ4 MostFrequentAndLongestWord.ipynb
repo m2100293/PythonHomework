{
 "cells": [
  {
   "cell_type": "code",
   "execution_count": 1,
   "id": "f89803da",
   "metadata": {},
   "outputs": [
    {
     "name": "stdout",
     "output_type": "stream",
     "text": [
      "Самое длинное -  храброславленный , самое частое -  мюмзики\n"
     ]
    }
   ],
   "source": [
    "convert = lambda a: ''.join(filter(str.isalpha, a))\n",
    "\n",
    "def MFALW(vvod):\n",
    "    splitedvvod = vvod.split()\n",
    "    splitedvvod = list(map(convert,splitedvvod))\n",
    "    unicvords = set(splitedvvod)\n",
    "    maxL = 0\n",
    "    maxF = 0\n",
    "    for i in unicvords:\n",
    "        if (len(i)>maxL):\n",
    "            maxL = len(i)\n",
    "            maxLword = i\n",
    "        if (splitedvvod.count(i)>maxF and len(i)>2):\n",
    "            maxF = splitedvvod.count(i)\n",
    "            maxFword = i\n",
    "            \n",
    "    print ('Самое длинное - ', maxLword, ', самое частое - ',maxFword)\n",
    "\n",
    "\n",
    "\n",
    "f = open('Поэма.txt', 'r', encoding=\"utf-8\")\n",
    "vvod = f.read()\n",
    "f.close()\n",
    "\n",
    "MFALW(vvod)"
   ]
  }
 ],
 "metadata": {
  "kernelspec": {
   "display_name": "Python 3 (ipykernel)",
   "language": "python",
   "name": "python3"
  },
  "language_info": {
   "codemirror_mode": {
    "name": "ipython",
    "version": 3
   },
   "file_extension": ".py",
   "mimetype": "text/x-python",
   "name": "python",
   "nbconvert_exporter": "python",
   "pygments_lexer": "ipython3",
   "version": "3.9.7"
  }
 },
 "nbformat": 4,
 "nbformat_minor": 5
}

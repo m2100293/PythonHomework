{
 "cells": [
  {
   "cell_type": "code",
   "execution_count": 3,
   "id": "b8a11bd8",
   "metadata": {},
   "outputs": [
    {
     "name": "stdout",
     "output_type": "stream",
     "text": [
      "Введите год\n",
      "296\n",
      "yes\n",
      "\n"
     ]
    }
   ],
   "source": [
    "try:\n",
    "    year = int(input('Введите год\\n'))\n",
    "    if year%4==0 and (year%100!=0 or year==400):\n",
    "        print('yes\\n')\n",
    "    else:\n",
    "        print('no\\n')\n",
    "    \n",
    "except ValueError:\n",
    "    print(\"Вы ввели не число!\")"
   ]
  }
 ],
 "metadata": {
  "kernelspec": {
   "display_name": "Python 3 (ipykernel)",
   "language": "python",
   "name": "python3"
  },
  "language_info": {
   "codemirror_mode": {
    "name": "ipython",
    "version": 3
   },
   "file_extension": ".py",
   "mimetype": "text/x-python",
   "name": "python",
   "nbconvert_exporter": "python",
   "pygments_lexer": "ipython3",
   "version": "3.9.7"
  }
 },
 "nbformat": 4,
 "nbformat_minor": 5
}

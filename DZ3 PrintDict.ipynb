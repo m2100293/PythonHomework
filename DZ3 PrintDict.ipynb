{
 "cells": [
  {
   "cell_type": "code",
   "execution_count": 15,
   "id": "45a966c8",
   "metadata": {},
   "outputs": [
    {
     "name": "stdout",
     "output_type": "stream",
     "text": [
      "КЛЮЧ <<key1>> --> ЗНАЧЕНИЕ 2\n",
      "КЛЮЧ <<key3>> --> ЗНАЧЕНИЕ False\n",
      "КЛЮЧ <<Приветствие>> --> ЗНАЧЕНИЕ Hello\n"
     ]
    }
   ],
   "source": [
    "convert = lambda a: 'КЛЮЧ <<'+str(a[0])+'>> --> ЗНАЧЕНИЕ '+str(a[1])\n",
    "\n",
    "def DisplayAllElements(data):\n",
    "    print(*map(convert,data.items()),sep='\\n')\n",
    "\n",
    "\n",
    "\n",
    "my_dict={\"key1\": 2, \"key3\": False, \"Приветствие\": \"Hello\"}\n",
    "DisplayAllElements(my_dict)"
   ]
  }
 ],
 "metadata": {
  "kernelspec": {
   "display_name": "Python 3 (ipykernel)",
   "language": "python",
   "name": "python3"
  },
  "language_info": {
   "codemirror_mode": {
    "name": "ipython",
    "version": 3
   },
   "file_extension": ".py",
   "mimetype": "text/x-python",
   "name": "python",
   "nbconvert_exporter": "python",
   "pygments_lexer": "ipython3",
   "version": "3.9.7"
  }
 },
 "nbformat": 4,
 "nbformat_minor": 5
}

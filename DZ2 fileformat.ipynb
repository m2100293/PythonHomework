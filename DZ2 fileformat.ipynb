{
 "cells": [
  {
   "cell_type": "code",
   "execution_count": 13,
   "id": "ae010a4e",
   "metadata": {},
   "outputs": [
    {
     "name": "stdout",
     "output_type": "stream",
     "text": [
      "Введите имя файла\n",
      "fjpswjf.fajsofd.jpeg\n",
      "2\n"
     ]
    }
   ],
   "source": [
    "filename=input('Введите имя файла\\n')\n",
    "fail = True\n",
    "i=0\n",
    "while i<len(filename) and fail:\n",
    "    if filename[i]==\".\":\n",
    "        fail=False\n",
    "    i=i+1\n",
    "if  fail!=True:\n",
    "    slovar = {\n",
    "        'png': 0,\n",
    "        'jpg': 1,\n",
    "        'jpeg': 2,\n",
    "        'gif': 3,\n",
    "        'svg': 4\n",
    "    }\n",
    "    i=len(filename)-1\n",
    "    temp = 0\n",
    "    fileformat = ''\n",
    "    while filename[i]!=\".\":\n",
    "        i=i-1\n",
    "    i=i+1\n",
    "    while i<len(filename):\n",
    "        fileformat+=filename[i]\n",
    "        i=i+1\n",
    "    try:\n",
    "        print(slovar[fileformat])\n",
    "    except KeyError:\n",
    "        print('Неопознанный формат\\n')\n",
    "else:\n",
    "    print('Неопознанный формат\\n')"
   ]
  }
 ],
 "metadata": {
  "kernelspec": {
   "display_name": "Python 3 (ipykernel)",
   "language": "python",
   "name": "python3"
  },
  "language_info": {
   "codemirror_mode": {
    "name": "ipython",
    "version": 3
   },
   "file_extension": ".py",
   "mimetype": "text/x-python",
   "name": "python",
   "nbconvert_exporter": "python",
   "pygments_lexer": "ipython3",
   "version": "3.9.7"
  }
 },
 "nbformat": 4,
 "nbformat_minor": 5
}

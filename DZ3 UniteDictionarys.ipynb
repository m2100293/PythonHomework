{
 "cells": [
  {
   "cell_type": "code",
   "execution_count": 16,
   "id": "a812f17f",
   "metadata": {
    "scrolled": true
   },
   "outputs": [
    {
     "name": "stdout",
     "output_type": "stream",
     "text": [
      "1 is 10\n",
      "2 is 20\n",
      "3 is 30\n",
      "4 is 40\n",
      "5 is 50\n",
      "6 is 60\n"
     ]
    }
   ],
   "source": [
    "def UniteDictionarys(*data):\n",
    "    slovarik={}\n",
    "    i=0\n",
    "    while i<len(data):\n",
    "        slovarik.update(data[i])\n",
    "        i=i+1\n",
    "    return slovarik\n",
    "\n",
    "dict_a = {1:10, 2:20}\n",
    "dict_b = {3:30, 4:40}\n",
    "dict_c = {5:50, 6:60}\n",
    "\n",
    "result = UniteDictionarys(dict_a,dict_b,dict_c)\n",
    "for key, value in result.items():\n",
    "        print(\"{} is {}\".format(key, value))"
   ]
  }
 ],
 "metadata": {
  "kernelspec": {
   "display_name": "Python 3 (ipykernel)",
   "language": "python",
   "name": "python3"
  },
  "language_info": {
   "codemirror_mode": {
    "name": "ipython",
    "version": 3
   },
   "file_extension": ".py",
   "mimetype": "text/x-python",
   "name": "python",
   "nbconvert_exporter": "python",
   "pygments_lexer": "ipython3",
   "version": "3.9.7"
  }
 },
 "nbformat": 4,
 "nbformat_minor": 5
}

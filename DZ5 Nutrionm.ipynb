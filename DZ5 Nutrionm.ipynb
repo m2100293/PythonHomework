{
 "cells": [
  {
   "cell_type": "code",
   "execution_count": 5,
   "id": "4f638deb",
   "metadata": {},
   "outputs": [
    {
     "name": "stdout",
     "output_type": "stream",
     "text": [
      "Nutrition p 0, c 75, f 0\n"
     ]
    }
   ],
   "source": [
    "class NutritionInfo:\n",
    "    def __init__(self, proteins, carbs, fats):\n",
    "        self.proteins = proteins\n",
    "        self.carbs = carbs\n",
    "        self.fats = fats\n",
    "    \n",
    "    def __add__(self, other):\n",
    "        return NutritionInfo(self.proteins + other.proteins, self.carbs + other.carbs, self.fats + other.fats)\n",
    "    \n",
    "    def __str__(self):\n",
    "        return f\"Nutrition p {self.proteins}, c {self.carbs}, f {self.fats}\"\n",
    "    \n",
    "    def __mul__(self, other):\n",
    "        return NutritionInfo(self.proteins * other, self.carbs * other, self.fats * other)\n",
    "        \n",
    "    def energy(self):\n",
    "        return int(self.fats * 9 + (self.carbs + self.proteins) * 4.2)\n",
    "\n",
    "\n",
    "egg = NutritionInfo(1, 2, 3)\n",
    "pastila = NutritionInfo(1, 2, 3)\n",
    "tvorog_9 = NutritionInfo(18, 3, 9)\n",
    "apple = NutritionInfo(0, 25, 0)\n",
    "\n",
    "breakfast = apple * 3\n",
    "print (breakfast)"
   ]
  }
 ],
 "metadata": {
  "kernelspec": {
   "display_name": "Python 3 (ipykernel)",
   "language": "python",
   "name": "python3"
  },
  "language_info": {
   "codemirror_mode": {
    "name": "ipython",
    "version": 3
   },
   "file_extension": ".py",
   "mimetype": "text/x-python",
   "name": "python",
   "nbconvert_exporter": "python",
   "pygments_lexer": "ipython3",
   "version": "3.9.7"
  }
 },
 "nbformat": 4,
 "nbformat_minor": 5
}

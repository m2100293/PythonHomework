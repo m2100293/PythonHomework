{
 "cells": [
  {
   "cell_type": "code",
   "execution_count": 15,
   "id": "25d04ba8",
   "metadata": {
    "scrolled": false
   },
   "outputs": [
    {
     "name": "stdout",
     "output_type": "stream",
     "text": [
      "Введите имя файла\n",
      "fsdg.png\n",
      "Введите форматы (разделитель - запятая)\n",
      "jpeg,gif,png\n",
      "Формат файла -  png \n",
      "\n"
     ]
    }
   ],
   "source": [
    "def testchar(char):\n",
    "    result = False\n",
    "    tester = 'abcdefghijklnmopqrstuvwxyzABCDEFGHIJKLMNOPQRSTUVWXYZ'\n",
    "    i=0\n",
    "    while i<len(tester):\n",
    "        if tester[i]==char:\n",
    "            result = True\n",
    "        i=i+1\n",
    "    return result\n",
    "\n",
    "def getfileformat(filename, formats):\n",
    "    temp=''\n",
    "    t = []\n",
    "    unknownsimvol = False\n",
    "    i=0\n",
    "    while i<len(formats):\n",
    "        if testchar(formats[i]):\n",
    "            temp=temp+formats[i]\n",
    "        elif formats[i]!=\",\":\n",
    "            unknownsimvol = True\n",
    "        if formats[i]==\",\" or i==len(formats)-1:\n",
    "            t.append(temp)\n",
    "            temp=''\n",
    "        i=i+1\n",
    "    if unknownsimvol:\n",
    "        print('В списке форматов присутствуют некорректные символы\\n')\n",
    "    fail = True\n",
    "    i=len(filename)-1\n",
    "    while i>-1 and fail:\n",
    "        if filename[i]==\".\":\n",
    "            fail=False\n",
    "            temp = i+1\n",
    "        i=i-1\n",
    "    if  fail!=True and temp<len(filename):\n",
    "        fileformat = filename[temp:]\n",
    "        i=0\n",
    "        fail=True\n",
    "        while i<len(t):\n",
    "            if t[i]==fileformat:\n",
    "                fail=False\n",
    "            i=i+1\n",
    "        if fail!=True:\n",
    "            print('Формат файла - ', fileformat, '\\n')\n",
    "        else:\n",
    "            print('Неопознанный формат\\n')\n",
    "    else:\n",
    "        print('Неопознанный формат\\n')\n",
    "\n",
    "getfileformat(input('Введите имя файла\\n'), input('Введите форматы (разделитель - запятая)\\n'))"
   ]
  },
  {
   "cell_type": "code",
   "execution_count": null,
   "id": "9e285e2a",
   "metadata": {},
   "outputs": [],
   "source": []
  }
 ],
 "metadata": {
  "kernelspec": {
   "display_name": "Python 3 (ipykernel)",
   "language": "python",
   "name": "python3"
  },
  "language_info": {
   "codemirror_mode": {
    "name": "ipython",
    "version": 3
   },
   "file_extension": ".py",
   "mimetype": "text/x-python",
   "name": "python",
   "nbconvert_exporter": "python",
   "pygments_lexer": "ipython3",
   "version": "3.9.7"
  }
 },
 "nbformat": 4,
 "nbformat_minor": 5
}

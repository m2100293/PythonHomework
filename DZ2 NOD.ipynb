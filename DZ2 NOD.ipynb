{
 "cells": [
  {
   "cell_type": "code",
   "execution_count": 6,
   "id": "8cfa5a0d",
   "metadata": {},
   "outputs": [
    {
     "name": "stdout",
     "output_type": "stream",
     "text": [
      "Введите первую переменную\n",
      "2017\n",
      "Введите вторую переменную\n",
      "2\n",
      "1\n"
     ]
    }
   ],
   "source": [
    "try:\n",
    "    a1=int(input('Введите первую переменную\\n'))\n",
    "    a2=int(input('Введите вторую переменную\\n'))\n",
    "    if a1<a2:\n",
    "        NOD = a1\n",
    "    else:\n",
    "        NOD = a2\n",
    "    while a1%NOD!=0 or a2%NOD!=0:\n",
    "    \n",
    "        NOD=NOD-1\n",
    "    print(NOD)\n",
    "    \n",
    "    \n",
    "except ValueError:\n",
    "    print(\"Вы ввели не число!\")"
   ]
  }
 ],
 "metadata": {
  "kernelspec": {
   "display_name": "Python 3 (ipykernel)",
   "language": "python",
   "name": "python3"
  },
  "language_info": {
   "codemirror_mode": {
    "name": "ipython",
    "version": 3
   },
   "file_extension": ".py",
   "mimetype": "text/x-python",
   "name": "python",
   "nbconvert_exporter": "python",
   "pygments_lexer": "ipython3",
   "version": "3.9.7"
  }
 },
 "nbformat": 4,
 "nbformat_minor": 5
}

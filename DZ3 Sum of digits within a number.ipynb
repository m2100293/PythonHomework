{
 "cells": [
  {
   "cell_type": "code",
   "execution_count": 8,
   "id": "7154a329",
   "metadata": {},
   "outputs": [
    {
     "name": "stdout",
     "output_type": "stream",
     "text": [
      "9\n"
     ]
    }
   ],
   "source": [
    "def SODWN(number):\n",
    "    if isinstance(number, str)!=True:\n",
    "        number = str(number)\n",
    "    result = 0\n",
    "    i=0\n",
    "    try:\n",
    "        while i<len(number):\n",
    "            result=result+int(number[i])\n",
    "            i=i+1\n",
    "        return result\n",
    "    except ValueError:\n",
    "        print(\"Вы ввели некорректное число. Допустимы лишь целые числа!\\n\")\n",
    "        return 0\n",
    "\n",
    "print(SODWN(45))"
   ]
  }
 ],
 "metadata": {
  "kernelspec": {
   "display_name": "Python 3 (ipykernel)",
   "language": "python",
   "name": "python3"
  },
  "language_info": {
   "codemirror_mode": {
    "name": "ipython",
    "version": 3
   },
   "file_extension": ".py",
   "mimetype": "text/x-python",
   "name": "python",
   "nbconvert_exporter": "python",
   "pygments_lexer": "ipython3",
   "version": "3.9.7"
  }
 },
 "nbformat": 4,
 "nbformat_minor": 5
}

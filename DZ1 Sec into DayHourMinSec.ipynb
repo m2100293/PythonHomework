{
 "cells": [
  {
   "cell_type": "code",
   "execution_count": 5,
   "id": "379ee29a",
   "metadata": {},
   "outputs": [
    {
     "name": "stdout",
     "output_type": "stream",
     "text": [
      "Введите число секунд\n",
      "191874\n",
      "Дни  2 ; Часы  5 ; Минуты  17 ; Секунды  54 \n",
      "\n"
     ]
    }
   ],
   "source": [
    "try:\n",
    "    seconds=int(input('Введите число секунд\\n'))\n",
    "    # Делим секунды на кол-во секунд в сутках, отбрасывая остаток.\n",
    "    days=seconds//int(60*60*24)\n",
    "    # Остаток от деления - секунды без дней. Делим на кол-во секунд в часу, отбрасывая остаток.\n",
    "    hours=(seconds%int(60*60*24))//int(60*60)\n",
    "    # Остаток от деления - секунды без часов. Делим на кол-во секунд в минуте.\n",
    "    minuts=((seconds%int(60*60*24))%int(60*60))//int(60)\n",
    "    # Остаток от деления - секунды.\n",
    "    seconds=((seconds%int(60*60*24))%int(60*60))%int(60)\n",
    "\n",
    "    print('Дни ',days,'; Часы ',hours,'; Минуты ',minuts,'; Секунды ',seconds,'\\n')\n",
    "except ValueError:\n",
    "    print(\"Вы ввели не число!\")"
   ]
  }
 ],
 "metadata": {
  "kernelspec": {
   "display_name": "Python 3 (ipykernel)",
   "language": "python",
   "name": "python3"
  },
  "language_info": {
   "codemirror_mode": {
    "name": "ipython",
    "version": 3
   },
   "file_extension": ".py",
   "mimetype": "text/x-python",
   "name": "python",
   "nbconvert_exporter": "python",
   "pygments_lexer": "ipython3",
   "version": "3.9.7"
  }
 },
 "nbformat": 4,
 "nbformat_minor": 5
}

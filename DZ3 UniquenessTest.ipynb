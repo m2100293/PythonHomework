{
 "cells": [
  {
   "cell_type": "code",
   "execution_count": 4,
   "id": "ca6559bd",
   "metadata": {},
   "outputs": [
    {
     "name": "stdout",
     "output_type": "stream",
     "text": [
      "Все элементы уникальны\n",
      "\n"
     ]
    }
   ],
   "source": [
    "def UTest(data):\n",
    "    unic = set(data)\n",
    "    if len(data)==len(unic):\n",
    "        return 'Все элементы уникальны\\n'\n",
    "    else:\n",
    "        return 'Не все элементы уникальны\\n'\n",
    "\n",
    "\n",
    "\n",
    "numbers=[1,4,5,45]\n",
    "print(UTest(numbers))"
   ]
  }
 ],
 "metadata": {
  "kernelspec": {
   "display_name": "Python 3 (ipykernel)",
   "language": "python",
   "name": "python3"
  },
  "language_info": {
   "codemirror_mode": {
    "name": "ipython",
    "version": 3
   },
   "file_extension": ".py",
   "mimetype": "text/x-python",
   "name": "python",
   "nbconvert_exporter": "python",
   "pygments_lexer": "ipython3",
   "version": "3.9.7"
  }
 },
 "nbformat": 4,
 "nbformat_minor": 5
}

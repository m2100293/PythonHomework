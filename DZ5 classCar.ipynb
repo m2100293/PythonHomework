{
 "cells": [
  {
   "cell_type": "code",
   "execution_count": 4,
   "id": "a638a779",
   "metadata": {},
   "outputs": [
    {
     "name": "stdout",
     "output_type": "stream",
     "text": [
      "Автомобиль заведен\n",
      "Автомобиль заглушен\n"
     ]
    }
   ],
   "source": [
    "class Car:\n",
    "    def __init__(self):\n",
    "        self.type = 'Passenger'\n",
    "        self.color = 'Black'\n",
    "        self.year = 2017\n",
    "    def Start(self):\n",
    "        print('Автомобиль заведен')\n",
    "    def Stop(self):\n",
    "        print('Автомобиль заглушен')\n",
    "    def setType(self,Type):\n",
    "        self.type = Type\n",
    "    def setcolot(self, color):\n",
    "        self.color = color\n",
    "    def setyear(self, year):\n",
    "        self.year = int(year)\n",
    "\n",
    "car1 = Car()\n",
    "car1.Start()\n",
    "car1.Stop()"
   ]
  }
 ],
 "metadata": {
  "kernelspec": {
   "display_name": "Python 3 (ipykernel)",
   "language": "python",
   "name": "python3"
  },
  "language_info": {
   "codemirror_mode": {
    "name": "ipython",
    "version": 3
   },
   "file_extension": ".py",
   "mimetype": "text/x-python",
   "name": "python",
   "nbconvert_exporter": "python",
   "pygments_lexer": "ipython3",
   "version": "3.9.7"
  }
 },
 "nbformat": 4,
 "nbformat_minor": 5
}

{
 "cells": [
  {
   "cell_type": "code",
   "execution_count": 86,
   "id": "b360727e",
   "metadata": {},
   "outputs": [
    {
     "name": "stdout",
     "output_type": "stream",
     "text": [
      "НОМЕР 0 --> ЗНАЧЕНИЕ 1\n",
      "НОМЕР 1 --> ЗНАЧЕНИЕ 4\n",
      "НОМЕР 2 --> ЗНАЧЕНИЕ 5\n"
     ]
    }
   ],
   "source": [
    "convert = lambda a: 'НОМЕР '+str(a[0])+' --> ЗНАЧЕНИЕ '+str(a[1])\n",
    "\n",
    "def DisplayAllElements(data):\n",
    "    print(*map(convert,enumerate(data)),sep='\\n')\n",
    "\n",
    "\n",
    "\n",
    "numbers=[1,4,5]\n",
    "DisplayAllElements(numbers)"
   ]
  }
 ],
 "metadata": {
  "kernelspec": {
   "display_name": "Python 3 (ipykernel)",
   "language": "python",
   "name": "python3"
  },
  "language_info": {
   "codemirror_mode": {
    "name": "ipython",
    "version": 3
   },
   "file_extension": ".py",
   "mimetype": "text/x-python",
   "name": "python",
   "nbconvert_exporter": "python",
   "pygments_lexer": "ipython3",
   "version": "3.9.7"
  }
 },
 "nbformat": 4,
 "nbformat_minor": 5
}

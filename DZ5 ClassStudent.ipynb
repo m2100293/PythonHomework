{
 "cells": [
  {
   "cell_type": "code",
   "execution_count": 7,
   "id": "0682f54e",
   "metadata": {},
   "outputs": [
    {
     "name": "stdout",
     "output_type": "stream",
     "text": [
      "Name -  Ivan , groupNumber -  10A , age -  18 \n",
      "\n",
      "Name -  Vik , groupNumber -  9B , age -  16 \n",
      "\n",
      "Name -  lev , groupNumber -  11C , age -  19 \n",
      "\n",
      "Name -  Mihail , groupNumber -  10B , age -  17 \n",
      "\n",
      "Name -  Kiriil , groupNumber -  9A , age -  17 \n",
      "\n"
     ]
    }
   ],
   "source": [
    "class Student:\n",
    "    def __init__(self):\n",
    "        self.name = 'Ivan'\n",
    "        self.groupNumber = '10A'\n",
    "        self.age = 18\n",
    "    def getName(self):\n",
    "        return self.name\n",
    "    def getGroupNumber(self):\n",
    "        return self.groupNumber\n",
    "    def getAge(self):\n",
    "        return self.age\n",
    "    def setNameAge(self, name, age):\n",
    "        self.name = name\n",
    "        self.age = age\n",
    "    def setGroupNumber(self, groupNumber):\n",
    "        self.groupNumber = groupNumber\n",
    "\n",
    "Students = [Student(),Student(),Student(),Student(),Student()]\n",
    "Students[1].setNameAge('Vik','16')\n",
    "Students[2].setNameAge('lev','19')\n",
    "Students[3].setNameAge('Mihail',17)\n",
    "Students[4].setNameAge('Kiriil','17')\n",
    "Students[1].setGroupNumber('9B')\n",
    "Students[2].setGroupNumber('11C')\n",
    "Students[3].setGroupNumber('10B')\n",
    "Students[4].setGroupNumber('9A')\n",
    "for i in Students:\n",
    "    print ('Name - ',i.getName(),', groupNumber - ',i.getGroupNumber(),', age - ',i.getAge(),'\\n')"
   ]
  }
 ],
 "metadata": {
  "kernelspec": {
   "display_name": "Python 3 (ipykernel)",
   "language": "python",
   "name": "python3"
  },
  "language_info": {
   "codemirror_mode": {
    "name": "ipython",
    "version": 3
   },
   "file_extension": ".py",
   "mimetype": "text/x-python",
   "name": "python",
   "nbconvert_exporter": "python",
   "pygments_lexer": "ipython3",
   "version": "3.9.7"
  }
 },
 "nbformat": 4,
 "nbformat_minor": 5
}

{
 "cells": [
  {
   "cell_type": "code",
   "execution_count": 18,
   "id": "a56ed690",
   "metadata": {},
   "outputs": [
    {
     "name": "stdout",
     "output_type": "stream",
     "text": [
      "Введите первую переменную\n",
      "24\n",
      "Введите символ\n",
      "+\n",
      "Введите вторую переменную\n",
      "42\n",
      "66\n"
     ]
    }
   ],
   "source": [
    "try:\n",
    "    a1=int(input('Введите первую переменную\\n'))\n",
    "    simvol=input('Введите символ\\n')\n",
    "    a2=int(input('Введите вторую переменную\\n'))\n",
    "    \n",
    "    if len(simvol)>1 or len(simvol)==0:\n",
    "    \n",
    "        print(\"Вы ввели не операцию!\")\n",
    "    \n",
    "    elif simvol[0]!='*' and simvol[0]!='/' and simvol[0]!='+' and simvol[0]!='-':\n",
    "    \n",
    "        print(\"Вы ввели не операцию!\")\n",
    "    \n",
    "    else:\n",
    "    \n",
    "        slovar = {\n",
    "            '*': a1*a2,\n",
    "            '+': a1+a2,\n",
    "            '-': a1-a2,\n",
    "            '/': a1/a2\n",
    "        }\n",
    "        print(slovar[simvol[0]])\n",
    "    \n",
    "except ValueError:\n",
    "    print(\"Вы ввели не число!\")"
   ]
  }
 ],
 "metadata": {
  "kernelspec": {
   "display_name": "Python 3 (ipykernel)",
   "language": "python",
   "name": "python3"
  },
  "language_info": {
   "codemirror_mode": {
    "name": "ipython",
    "version": 3
   },
   "file_extension": ".py",
   "mimetype": "text/x-python",
   "name": "python",
   "nbconvert_exporter": "python",
   "pygments_lexer": "ipython3",
   "version": "3.9.7"
  }
 },
 "nbformat": 4,
 "nbformat_minor": 5
}

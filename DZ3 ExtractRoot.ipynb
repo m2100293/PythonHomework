{
 "cells": [
  {
   "cell_type": "code",
   "execution_count": 6,
   "id": "a000b56f",
   "metadata": {},
   "outputs": [
    {
     "name": "stdout",
     "output_type": "stream",
     "text": [
      "Введите число\n",
      "27\n",
      "Введите степень\n",
      "3\n",
      "3.0\n"
     ]
    }
   ],
   "source": [
    "def extroot(number, extent):\n",
    "    if extent!=0:\n",
    "        return number**(1/extent)\n",
    "    else:\n",
    "        print('Error невозможно извлечь корень нулевой степени')\n",
    "        return number**(1/2)\n",
    "\n",
    "try:\n",
    "    number = int(input('Введите число\\n'))\n",
    "    extent = int(input('Введите степень\\n'))\n",
    "    print(extroot(number, extent))\n",
    "except ValueError:\n",
    "    print(\"Вы ввели не число!\")"
   ]
  }
 ],
 "metadata": {
  "kernelspec": {
   "display_name": "Python 3 (ipykernel)",
   "language": "python",
   "name": "python3"
  },
  "language_info": {
   "codemirror_mode": {
    "name": "ipython",
    "version": 3
   },
   "file_extension": ".py",
   "mimetype": "text/x-python",
   "name": "python",
   "nbconvert_exporter": "python",
   "pygments_lexer": "ipython3",
   "version": "3.9.7"
  }
 },
 "nbformat": 4,
 "nbformat_minor": 5
}

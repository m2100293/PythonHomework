{
 "cells": [
  {
   "cell_type": "code",
   "execution_count": 3,
   "id": "a2e58afc",
   "metadata": {},
   "outputs": [
    {
     "name": "stdout",
     "output_type": "stream",
     "text": [
      "Введите номер месяца\n",
      "3\n",
      "Март\n"
     ]
    }
   ],
   "source": [
    "try:\n",
    "    month=int(input('Введите номер месяца\\n'))\n",
    "    slovar = {\n",
    "            1: 'Январь',\n",
    "            2: 'Февраль',\n",
    "            3: 'Март',\n",
    "            4: 'Апрель',\n",
    "            5: 'Май',\n",
    "            6: 'Июнь',\n",
    "            7: 'Июль',\n",
    "            8: 'Август',\n",
    "            9: 'Сентябрь',\n",
    "            10: 'Октябрь',\n",
    "            11: 'Ноябрь',\n",
    "            12: 'Декабрь'\n",
    "        }\n",
    "    print(slovar[month])\n",
    "except ValueError:\n",
    "    print(\"Вы ввели не число!\")"
   ]
  }
 ],
 "metadata": {
  "kernelspec": {
   "display_name": "Python 3 (ipykernel)",
   "language": "python",
   "name": "python3"
  },
  "language_info": {
   "codemirror_mode": {
    "name": "ipython",
    "version": 3
   },
   "file_extension": ".py",
   "mimetype": "text/x-python",
   "name": "python",
   "nbconvert_exporter": "python",
   "pygments_lexer": "ipython3",
   "version": "3.9.7"
  }
 },
 "nbformat": 4,
 "nbformat_minor": 5
}

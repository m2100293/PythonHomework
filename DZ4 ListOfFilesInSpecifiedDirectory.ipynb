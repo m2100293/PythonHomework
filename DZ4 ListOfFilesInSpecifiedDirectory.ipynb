{
 "cells": [
  {
   "cell_type": "code",
   "execution_count": 5,
   "id": "6548c39b",
   "metadata": {},
   "outputs": [
    {
     "name": "stdout",
     "output_type": "stream",
     "text": [
      "Введите директорию\n",
      "D:\\Downloads\\MISIS-master\\notebooks\n",
      "L1.html\n",
      "L1.ipynb\n",
      "L2.html\n",
      "L2.ipynb\n",
      "L3.html\n",
      "L3.ipynb\n",
      "L4.html\n",
      "L4.ipynb\n",
      "L5.ipynb\n",
      "L6.ipynb\n",
      "L7.ipynb\n",
      "temp\n",
      "расписание.txt\n"
     ]
    }
   ],
   "source": [
    "import os\n",
    "def LOFISD(directory):\n",
    "    print(*os.listdir(directory),sep='\\n')\n",
    "\n",
    "directory = input('Введите директорию\\n')\n",
    "LOFISD(directory)"
   ]
  }
 ],
 "metadata": {
  "kernelspec": {
   "display_name": "Python 3 (ipykernel)",
   "language": "python",
   "name": "python3"
  },
  "language_info": {
   "codemirror_mode": {
    "name": "ipython",
    "version": 3
   },
   "file_extension": ".py",
   "mimetype": "text/x-python",
   "name": "python",
   "nbconvert_exporter": "python",
   "pygments_lexer": "ipython3",
   "version": "3.9.7"
  }
 },
 "nbformat": 4,
 "nbformat_minor": 5
}

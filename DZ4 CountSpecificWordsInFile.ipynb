{
 "cells": [
  {
   "cell_type": "code",
   "execution_count": 1,
   "id": "a3d46328",
   "metadata": {},
   "outputs": [
    {
     "name": "stdout",
     "output_type": "stream",
     "text": [
      "Лекций: 2\n",
      "Практических: 3\n",
      "Лабораторных: 2\n"
     ]
    }
   ],
   "source": [
    "def CSWIF(vvod):\n",
    "    splitedvvod = vvod.split()\n",
    "    lec = splitedvvod.count('(лекц.)')\n",
    "    pract = splitedvvod.count('(практ.)')\n",
    "    lab = splitedvvod.count('(лаб.)')\n",
    "\n",
    "    print('Лекций:', lec)\n",
    "    print('Практических:', pract)\n",
    "    print('Лабораторных:', lab)\n",
    "\n",
    "\n",
    "\n",
    "vvod = \"\"\"Понедельник\n",
    "\tФизика (лекц.)\n",
    "\tФизика (лаб.)\n",
    "\tАлгебра (практ.)\n",
    " \n",
    "Вторник\n",
    "\tГеометрия (лекц.)\n",
    "\tФизика (практ.)\n",
    "\tФизика (лаб.)\n",
    "\tФизкультура (практ.)\"\"\"\n",
    "\n",
    "CSWIF(vvod)"
   ]
  }
 ],
 "metadata": {
  "kernelspec": {
   "display_name": "Python 3 (ipykernel)",
   "language": "python",
   "name": "python3"
  },
  "language_info": {
   "codemirror_mode": {
    "name": "ipython",
    "version": 3
   },
   "file_extension": ".py",
   "mimetype": "text/x-python",
   "name": "python",
   "nbconvert_exporter": "python",
   "pygments_lexer": "ipython3",
   "version": "3.9.7"
  }
 },
 "nbformat": 4,
 "nbformat_minor": 5
}

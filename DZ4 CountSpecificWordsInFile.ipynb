{
 "cells": [
  {
   "cell_type": "code",
   "execution_count": 2,
   "id": "a3d46328",
   "metadata": {},
   "outputs": [
    {
     "name": "stdout",
     "output_type": "stream",
     "text": [
      "Лекций: 4\n",
      "Практических: 9\n",
      "Лабораторных: 2\n"
     ]
    }
   ],
   "source": [
    "\n",
    "\n",
    "def CSWIF(vvod):\n",
    "    splitedvvod = vvod.split()\n",
    "    lec = splitedvvod.count('(лекц.)')\n",
    "    pract = splitedvvod.count('(практ.)')\n",
    "    lab = splitedvvod.count('(лаб.)')\n",
    "\n",
    "    print('Лекций:', lec)\n",
    "    print('Практических:', pract)\n",
    "    print('Лабораторных:', lab)\n",
    "\n",
    "\n",
    "f = open('Расписание.txt', 'r', encoding=\"utf-8\")\n",
    "vvod = f.read()\n",
    "f.close()\n",
    "\n",
    "CSWIF(vvod)"
   ]
  }
 ],
 "metadata": {
  "kernelspec": {
   "display_name": "Python 3 (ipykernel)",
   "language": "python",
   "name": "python3"
  },
  "language_info": {
   "codemirror_mode": {
    "name": "ipython",
    "version": 3
   },
   "file_extension": ".py",
   "mimetype": "text/x-python",
   "name": "python",
   "nbconvert_exporter": "python",
   "pygments_lexer": "ipython3",
   "version": "3.9.7"
  }
 },
 "nbformat": 4,
 "nbformat_minor": 5
}

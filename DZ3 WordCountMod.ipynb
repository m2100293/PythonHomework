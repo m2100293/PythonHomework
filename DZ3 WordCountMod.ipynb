{
 "cells": [
  {
   "cell_type": "code",
   "execution_count": 42,
   "id": "ac31d923",
   "metadata": {},
   "outputs": [
    {
     "name": "stdout",
     "output_type": "stream",
     "text": [
      "СЛОВО Тут --> ВЕС 4.23%\n",
      "СЛОВО фраза --> ВЕС 7.04%\n",
      "СЛОВО с --> ВЕС 1.41%\n",
      "СЛОВО пробелами --> ВЕС 12.68%\n",
      "СЛОВО и --> ВЕС 1.41%\n",
      "СЛОВО я --> ВЕС 1.41%\n",
      "СЛОВО хочу --> ВЕС 5.63%\n",
      "СЛОВО их --> ВЕС 2.82%\n",
      "СЛОВО распечатать --> ВЕС 15.49%\n",
      "СЛОВО по --> ВЕС 2.82%\n",
      "СЛОВО одному --> ВЕС 8.45%\n",
      "СЛОВО на --> ВЕС 2.82%\n",
      "СЛОВО строку --> ВЕС 8.45%\n",
      "СЛОВО и --> ВЕС 1.41%\n",
      "СЛОВО ещё --> ВЕС 4.23%\n",
      "СЛОВО посчитать --> ВЕС 12.68%\n",
      "СЛОВО слова --> ВЕС 7.04%\n"
     ]
    }
   ],
   "source": [
    "def word_count(phrase):\n",
    "    phrase = phrase.split()\n",
    "    lenwithoutsep = len(''.join(phrase))\n",
    "    print(*map(lambda a: 'СЛОВО '+a+' --> ВЕС '+str(round(len(a)*100/lenwithoutsep,2))+'%',phrase),sep='\\n')\n",
    "\n",
    "word_count(\"Тут фраза с пробелами и я хочу их распечатать по одному на строку и ещё посчитать слова\")"
   ]
  }
 ],
 "metadata": {
  "kernelspec": {
   "display_name": "Python 3 (ipykernel)",
   "language": "python",
   "name": "python3"
  },
  "language_info": {
   "codemirror_mode": {
    "name": "ipython",
    "version": 3
   },
   "file_extension": ".py",
   "mimetype": "text/x-python",
   "name": "python",
   "nbconvert_exporter": "python",
   "pygments_lexer": "ipython3",
   "version": "3.9.7"
  }
 },
 "nbformat": 4,
 "nbformat_minor": 5
}
